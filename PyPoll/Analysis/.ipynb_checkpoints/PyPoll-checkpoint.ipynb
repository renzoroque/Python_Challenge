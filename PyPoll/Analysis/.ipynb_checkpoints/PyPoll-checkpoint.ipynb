{
 "cells": [
  {
   "cell_type": "code",
   "execution_count": 6,
   "metadata": {},
   "outputs": [],
   "source": [
    "import os\n",
    "import csv"
   ]
  },
  {
   "cell_type": "code",
   "execution_count": 7,
   "metadata": {},
   "outputs": [],
   "source": [
    "total_votes = 0\n",
    "percentage_votes = []\n",
    "candidate_votes = []\n",
    "Candidate = []\n",
    "votes = []"
   ]
  },
  {
   "cell_type": "code",
   "execution_count": 8,
   "metadata": {},
   "outputs": [],
   "source": [
    "csvpath = os.path.join(\"..\", \"Resources\", \"election_data.csv\")"
   ]
  },
  {
   "cell_type": "code",
   "execution_count": 9,
   "metadata": {},
   "outputs": [
    {
     "name": "stdout",
     "output_type": "stream",
     "text": [
      "Election Results!!!\n",
      "-----------------\n",
      "Total Votes: 3521001\n",
      "-----------------\n",
      "Khan: 63.0% (2218231)\n",
      "Correy: 20.0% (704200)\n",
      "Li: 14.0% (492940)\n",
      "O'Tooley: 3.0% (105630)\n",
      "-----------------\n",
      "Winner: Khan\n"
     ]
    }
   ],
   "source": [
    "with open(csvpath) as csvfile:\n",
    "    PyPoll = csv.reader(csvfile, delimiter=',')\n",
    "    csv_header = next(PyPoll)\n",
    "\n",
    "    for row in PyPoll:  \n",
    "        total_votes += 1\n",
    "        \n",
    "        if row[2] not in Candidate:\n",
    "            Candidate.append(row[2])\n",
    "            \n",
    "        votes.append(row[2])\n",
    "        \n",
    "    for candidate in Candidate:\n",
    "        candidate_votes.append(votes.count(candidate))\n",
    "        percentage_votes.append(round(votes.count(candidate)/total_votes*100,3))\n",
    "                                       \n",
    "winner = Candidate[candidate_votes.index(max(candidate_votes))]\n",
    "                                      \n",
    "print(f'Election Results!!!')\n",
    "print(f'-----------------')\n",
    "print(f'Total Votes: {total_votes}')\n",
    "print(f'-----------------')\n",
    "for i in range(len(Candidate)):\n",
    "    print(f'{Candidate[i]}: {percentage_votes[i]}% ({candidate_votes[i]})')\n",
    "print(f'-----------------')\n",
    "print(f'Winner: {winner}')\n",
    "\n",
    "PyPoll_txt = os.path.join(\"poll_data.txt\")\n",
    "with open(PyPoll_txt, \"w\") as outfile:\n",
    "\n",
    "    outfile.write(f\"Elections Results!!!\\n\")\n",
    "    outfile.write(\"----------------------------\\n\")\n",
    "    outfile.write(f\"Total Votes:  {total_votes}\\n\")\n",
    "    outfile.write(\"----------------------------\\n\")\n",
    "    for i in range(len(Candidate)):\n",
    "        outfile.write(f\"{Candidate[i]}: {percentage_votes[i]}% ({candidate_votes[i]})\\n\")\n",
    "    outfile.write(\"----------------------------\\n\")\n",
    "    outfile.write(f\"Winner: {winner}\\n\")\n",
    "    outfile.write(\"----------------------------\\n\")"
   ]
  },
  {
   "cell_type": "code",
   "execution_count": null,
   "metadata": {},
   "outputs": [],
   "source": []
  }
 ],
 "metadata": {
  "kernelspec": {
   "display_name": "Python 3",
   "language": "python",
   "name": "python3"
  },
  "language_info": {
   "codemirror_mode": {
    "name": "ipython",
    "version": 3
   },
   "file_extension": ".py",
   "mimetype": "text/x-python",
   "name": "python",
   "nbconvert_exporter": "python",
   "pygments_lexer": "ipython3",
   "version": "3.7.6"
  }
 },
 "nbformat": 4,
 "nbformat_minor": 4
}
