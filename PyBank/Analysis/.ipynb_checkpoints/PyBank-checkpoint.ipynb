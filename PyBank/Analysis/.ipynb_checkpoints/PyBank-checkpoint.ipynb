{
 "cells": [
  {
   "cell_type": "code",
   "execution_count": 1,
   "metadata": {},
   "outputs": [],
   "source": [
    "import os\n",
    "import csv"
   ]
  },
  {
   "cell_type": "code",
   "execution_count": 2,
   "metadata": {},
   "outputs": [],
   "source": [
    "csvpath = os.path.join('..','Resources','budget_data.csv')"
   ]
  },
  {
   "cell_type": "code",
   "execution_count": 4,
   "metadata": {},
   "outputs": [
    {
     "name": "stdout",
     "output_type": "stream",
     "text": [
      "Financial Analysis\n",
      "------------------\n",
      "Total Months: 86\n",
      "Total: $38382578\n",
      "Averange Change: $-2315.12\n",
      "Greatest Increase in Profits: $1926159 on Feb-2012\n",
      "Greatest Decrease in Profits: $-2196167 on Sep-2013\n"
     ]
    }
   ],
   "source": [
    "net_change_l = []\n",
    "month_of_change = []\n",
    "\n",
    "with open(csvpath) as csvfile:\n",
    "    PyBank = csv.reader(csvfile, delimiter=',')\n",
    "    csv_header = next(PyBank)\n",
    "    total_months = 0\n",
    "    total_profits = 0\n",
    "    net_change = 0\n",
    "    profit = 0\n",
    "               \n",
    "    for row in PyBank:\n",
    "        total_months = total_months + 1   \n",
    "        value = int(row[1])\n",
    "        total_profits = total_profits + value\n",
    "        month_of_change.append(str(row[0]))\n",
    "        #Calculate the average in changes\n",
    "        if net_change != 0:\n",
    "            profit = value\n",
    "            net_change = profit - net_change\n",
    "            net_change_l.append(net_change)\n",
    "            net_change = value\n",
    "        #Setting value for first row\n",
    "        elif net_change == 0:\n",
    "            net_change = value\n",
    "        \n",
    "month_of_change.pop(0)                \n",
    "average_change = sum(net_change_l)/(len(net_change_l))\n",
    "average_change = round(average_change, 2)\n",
    "#Max Profit and Month\n",
    "max_profit = max(net_change_l)\n",
    "max_month = month_of_change[net_change_l.index(max_profit)]\n",
    "\n",
    "#Min Profit and Month\n",
    "min_profit = min(net_change_l)\n",
    "min_month = month_of_change[net_change_l.index(min_profit)]\n",
    "\n",
    "print('''Financial Analysis\n",
    "------------------''')\n",
    "print(f'Total Months: {total_months}')\n",
    "print(f'Total: ${total_profits}')\n",
    "print(f'Averange Change: ${average_change}')\n",
    "print(f'Greatest Increase in Profits: ${max_profit} on {max_month}')\n",
    "print(f'Greatest Decrease in Profits: ${min_profit} on {min_month}')\n",
    "\n",
    "\n",
    "PyBank_txt = os.path.join(\"..\",\"Analysis\", \"budget_data.txt\")\n",
    "with open(PyBank_txt, \"w\") as outfile:\n",
    "\n",
    "    outfile.write(\"Financial Analysis\\n\")\n",
    "    outfile.write(\"----------------------------\\n\")\n",
    "    outfile.write(f\"Total Months:  {total_months}\\n\")\n",
    "    outfile.write(f\"Total:  ${total_profits}\\n\")\n",
    "    outfile.write(f\"Average Change:  ${average_change}\\n\")\n",
    "    outfile.write(f\"Greatest Increase in Profits:  ${max_profit} on {max_month}\\n\")\n",
    "    outfile.write(f\"Greatest Decrease in Losses:  ${min_profit} on {min_month}\\n\")"
   ]
  },
  {
   "cell_type": "code",
   "execution_count": null,
   "metadata": {},
   "outputs": [],
   "source": []
  }
 ],
 "metadata": {
  "kernelspec": {
   "display_name": "Python 3",
   "language": "python",
   "name": "python3"
  },
  "language_info": {
   "codemirror_mode": {
    "name": "ipython",
    "version": 3
   },
   "file_extension": ".py",
   "mimetype": "text/x-python",
   "name": "python",
   "nbconvert_exporter": "python",
   "pygments_lexer": "ipython3",
   "version": "3.7.6"
  }
 },
 "nbformat": 4,
 "nbformat_minor": 4
}
